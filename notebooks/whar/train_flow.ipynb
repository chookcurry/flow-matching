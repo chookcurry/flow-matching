{
 "cells": [
  {
   "cell_type": "code",
   "execution_count": null,
   "id": "3750e228",
   "metadata": {},
   "outputs": [],
   "source": [
    "import torch\n",
    "from flow_matching.supervised.alphas_betas import LinearAlpha, LinearBeta\n",
    "from flow_matching.supervised.prob_paths import GaussianConditionalProbabilityPath\n",
    "from flow_matching.supervised.training import FlowTrainer\n",
    "\n",
    "from flow_matching.whar.sampler import WHARSampler\n",
    "from flow_matching.whar.vector_field import WHARUnet"
   ]
  },
  {
   "cell_type": "code",
   "execution_count": 3,
   "id": "749297ed",
   "metadata": {},
   "outputs": [],
   "source": [
    "device = torch.device(\"cuda\" if torch.cuda.is_available() else \"cpu\")"
   ]
  },
  {
   "cell_type": "code",
   "execution_count": 4,
   "id": "d63b6927",
   "metadata": {},
   "outputs": [
    {
     "name": "stdout",
     "output_type": "stream",
     "text": [
      "Creating config hash...\n",
      "Checking download...\n",
      "Download exists.\n",
      "Checking sessions...\n",
      "Sessions exist.\n",
      "Validating common format...\n",
      "[########################################] | 100% Completed | 746.40 ms\n",
      "Common format validated.\n",
      "Checking windowing...\n",
      "Loading config hash...\n",
      "Windowing exists.\n",
      "subject_ids: [ 0  1  2  3  4  5  6  7  8  9 10 11 12 13 14 15 16 17 18 19 20 21 22 23\n",
      " 24 25 26 27 28 29]\n",
      "activity_ids: [0 1 2 3 4 5]\n",
      "train: 7046 | val: 782 | test: 1671\n",
      "Postprocessing...\n"
     ]
    },
    {
     "name": "stderr",
     "output_type": "stream",
     "text": [
      "Loading windows: 100%|██████████| 9499/9499 [00:07<00:00, 1296.00it/s]\n"
     ]
    },
    {
     "name": "stdout",
     "output_type": "stream",
     "text": [
      "Getting normalization parameters...\n",
      "Loading config hash...\n",
      "Creating normalization parameters hash...\n",
      "Loading normalization parameters hash...\n"
     ]
    },
    {
     "name": "stderr",
     "output_type": "stream",
     "text": [
      "Loading samples: 100%|██████████| 9499/9499 [00:01<00:00, 6598.88it/s]\n"
     ]
    }
   ],
   "source": [
    "sampler = WHARSampler()"
   ]
  },
  {
   "cell_type": "code",
   "execution_count": null,
   "id": "eb719b68",
   "metadata": {},
   "outputs": [
    {
     "name": "stdout",
     "output_type": "stream",
     "text": [
      "[9, 5, 64]\n",
      "6\n"
     ]
    }
   ],
   "source": [
    "shape = sampler.get_shape()\n",
    "print(shape)\n",
    "num_classes = len(sampler.dataset.get_class_weights(sampler.train_loader).keys())\n",
    "print(num_classes)\n",
    "\n",
    "path = GaussianConditionalProbabilityPath(\n",
    "    p_data=sampler,\n",
    "    p_simple_shape=shape,\n",
    "    alpha=LinearAlpha(),\n",
    "    beta=LinearBeta(),\n",
    ").to(device)\n",
    "\n",
    "unet = WHARUnet(\n",
    "    in_channels=shape[0],\n",
    "    channels=[16, 32, 64],\n",
    "    num_blocks=4,\n",
    "    emb_dim=16,\n",
    "    num_classes=num_classes,\n",
    ").to(device)\n",
    "\n",
    "trainer = FlowTrainer(\n",
    "    path=path,\n",
    "    model=unet,\n",
    "    null_class=num_classes,\n",
    "    eta=0.001,  # (1 / num_classes)\n",
    ")"
   ]
  },
  {
   "cell_type": "code",
   "execution_count": null,
   "id": "1a1261b5",
   "metadata": {},
   "outputs": [],
   "source": [
    "trainer.train(num_epochs=1000, device=device, lr=1e-3, batch_size=32)"
   ]
  },
  {
   "cell_type": "code",
   "execution_count": 8,
   "id": "850c3505",
   "metadata": {},
   "outputs": [],
   "source": [
    "torch.save(unet.state_dict(), \"unet.pt\")"
   ]
  }
 ],
 "metadata": {
  "kernelspec": {
   "display_name": "flow-matching",
   "language": "python",
   "name": "python3"
  },
  "language_info": {
   "codemirror_mode": {
    "name": "ipython",
    "version": 3
   },
   "file_extension": ".py",
   "mimetype": "text/x-python",
   "name": "python",
   "nbconvert_exporter": "python",
   "pygments_lexer": "ipython3",
   "version": "3.11.12"
  }
 },
 "nbformat": 4,
 "nbformat_minor": 5
}
