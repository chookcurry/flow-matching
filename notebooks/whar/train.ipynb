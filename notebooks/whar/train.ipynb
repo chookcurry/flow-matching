{
 "cells": [
  {
   "cell_type": "code",
   "execution_count": 1,
   "id": "3750e228",
   "metadata": {},
   "outputs": [],
   "source": [
    "import torch\n",
    "from flow_matching.supervised.alphas_betas import LinearAlpha, LinearBeta\n",
    "from flow_matching.supervised.samplers import WHARSampler\n",
    "from flow_matching.supervised.prob_paths import GaussianConditionalProbabilityPath\n",
    "from flow_matching.supervised.models import SimpleUNet\n",
    "from flow_matching.supervised.training import CFGTrainer"
   ]
  },
  {
   "cell_type": "code",
   "execution_count": 2,
   "id": "749297ed",
   "metadata": {},
   "outputs": [],
   "source": [
    "device = torch.device(\"cuda\" if torch.cuda.is_available() else \"cpu\")"
   ]
  },
  {
   "cell_type": "code",
   "execution_count": 3,
   "id": "d63b6927",
   "metadata": {},
   "outputs": [
    {
     "name": "stdout",
     "output_type": "stream",
     "text": [
      "Creating config hash...\n",
      "Checking download...\n",
      "Download exists.\n",
      "Checking sessions...\n",
      "Sessions exist.\n",
      "Validating common format...\n",
      "[########################################] | 100% Completed | 731.71 ms\n",
      "Common format validated.\n",
      "Checking windowing...\n",
      "Loading config hash...\n",
      "Windowing exists.\n",
      "subject_ids: [ 0  1  2  3  4  5  6  7  8  9 10 11 12 13 14 15 16 17 18 19 20 21 22 23\n",
      " 24 25 26 27 28 29 30 31 32 33 34 35]\n",
      "activity_ids: [0 1 2 3 4 5]\n",
      "train: 16905 | val: 1878 | test: 3625\n",
      "Postprocessing...\n"
     ]
    },
    {
     "name": "stderr",
     "output_type": "stream",
     "text": [
      "Loading windows: 100%|██████████| 22408/22408 [00:09<00:00, 2455.65it/s]\n"
     ]
    },
    {
     "name": "stdout",
     "output_type": "stream",
     "text": [
      "Getting normalization parameters...\n",
      "Loading config hash...\n",
      "Creating normalization parameters hash...\n",
      "Loading normalization parameters hash...\n"
     ]
    },
    {
     "name": "stderr",
     "output_type": "stream",
     "text": [
      "Loading samples: 100%|██████████| 22408/22408 [00:01<00:00, 16394.79it/s]\n"
     ]
    }
   ],
   "source": [
    "sampler = WHARSampler()"
   ]
  },
  {
   "cell_type": "code",
   "execution_count": 4,
   "id": "eb719b68",
   "metadata": {},
   "outputs": [
    {
     "name": "stdout",
     "output_type": "stream",
     "text": [
      "[3, 4, 50]\n",
      "6\n"
     ]
    }
   ],
   "source": [
    "shape = sampler.get_shape()\n",
    "print(shape)\n",
    "num_classes = len(sampler.dataset.get_class_weights(sampler.train_loader).keys())\n",
    "print(num_classes)\n",
    "\n",
    "path = GaussianConditionalProbabilityPath(\n",
    "    p_data=sampler,\n",
    "    p_simple_shape=shape,\n",
    "    alpha=LinearAlpha(),\n",
    "    beta=LinearBeta(),\n",
    ").to(device)\n",
    "\n",
    "unet = SimpleUNet(\n",
    "    num_classes=num_classes,\n",
    "    t_embed_dim=40,\n",
    "    y_embed_dim=40,\n",
    ").to(device)\n",
    "\n",
    "trainer = CFGTrainer(path=path, model=unet, null_class=num_classes, eta=0.1)"
   ]
  },
  {
   "cell_type": "code",
   "execution_count": 10,
   "id": "1a1261b5",
   "metadata": {},
   "outputs": [
    {
     "name": "stdout",
     "output_type": "stream",
     "text": [
      "Training model with size: 0.425 MiB\n"
     ]
    },
    {
     "name": "stderr",
     "output_type": "stream",
     "text": [
      "Epoch 999, loss: 0.955: 100%|██████████| 1000/1000 [00:51<00:00, 19.52it/s]\n"
     ]
    }
   ],
   "source": [
    "trainer.train(num_epochs=1000, device=device, lr=1e-3, batch_size=32)"
   ]
  },
  {
   "cell_type": "code",
   "execution_count": 11,
   "id": "850c3505",
   "metadata": {},
   "outputs": [],
   "source": [
    "torch.save(unet.state_dict(), \"unet.pt\")"
   ]
  }
 ],
 "metadata": {
  "kernelspec": {
   "display_name": "flow-matching",
   "language": "python",
   "name": "python3"
  },
  "language_info": {
   "codemirror_mode": {
    "name": "ipython",
    "version": 3
   },
   "file_extension": ".py",
   "mimetype": "text/x-python",
   "name": "python",
   "nbconvert_exporter": "python",
   "pygments_lexer": "ipython3",
   "version": "3.11.12"
  }
 },
 "nbformat": 4,
 "nbformat_minor": 5
}
