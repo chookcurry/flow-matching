{
 "cells": [
  {
   "cell_type": "code",
   "execution_count": 1,
   "id": "3750e228",
   "metadata": {},
   "outputs": [],
   "source": [
    "import torch\n",
    "from matplotlib import pyplot as plt\n",
    "from flow_matching.latent.training_vae import VAETrainer\n",
    "from flow_matching.whar.stft import istft_transform, plot_spectrogram_grid\n",
    "from flow_matching.whar.sampler import WHARSamplerRAW\n",
    "from flow_matching.whar.vae import SpectrogramVAE\n",
    "from flow_matching.whar.losses import (\n",
    "    vae_loss_mse,\n",
    "    vae_loss_log_mag,\n",
    "    vae_loss_log_mag_phase,\n",
    "    vae_loss_spect_conv,\n",
    ")"
   ]
  },
  {
   "cell_type": "code",
   "execution_count": 2,
   "id": "749297ed",
   "metadata": {},
   "outputs": [],
   "source": [
    "device = torch.device(\"cuda\" if torch.cuda.is_available() else \"cpu\")"
   ]
  },
  {
   "cell_type": "code",
   "execution_count": 3,
   "id": "8991da92",
   "metadata": {},
   "outputs": [
    {
     "name": "stdout",
     "output_type": "stream",
     "text": [
      "Creating config hash...\n",
      "Checking download...\n",
      "Download exists.\n",
      "Checking sessions...\n",
      "Sessions exist.\n",
      "Validating common format...\n",
      "[########################################] | 100% Completed | 743.36 ms\n",
      "Common format validated.\n",
      "Checking windowing...\n",
      "Loading config hash...\n",
      "Windowing exists.\n",
      "subject_ids: [ 0  1  2  3  4  5  6  7  8  9 10 11 12 13 14 15 16 17 18 19 20 21 22 23\n",
      " 24 25 26 27 28 29]\n",
      "activity_ids: [0 1 2 3 4 5]\n",
      "train: 7046 | val: 782 | test: 1671\n",
      "Postprocessing...\n"
     ]
    },
    {
     "name": "stderr",
     "output_type": "stream",
     "text": [
      "Loading windows: 100%|██████████| 9499/9499 [00:07<00:00, 1289.20it/s]\n"
     ]
    },
    {
     "name": "stdout",
     "output_type": "stream",
     "text": [
      "Getting normalization parameters...\n",
      "Loading config hash...\n",
      "Creating normalization parameters hash...\n",
      "Loading normalization parameters hash...\n"
     ]
    },
    {
     "name": "stderr",
     "output_type": "stream",
     "text": [
      "Loading samples: 100%|██████████| 9499/9499 [00:02<00:00, 4112.00it/s]\n"
     ]
    }
   ],
   "source": [
    "sampler = WHARSamplerRAW()"
   ]
  },
  {
   "cell_type": "code",
   "execution_count": 5,
   "id": "383e02a3",
   "metadata": {},
   "outputs": [],
   "source": [
    "vae = SpectrogramVAE()\n",
    "trainer = VAETrainer(vae, sampler.train_loader, sampler.val_loader, vae_loss_mse)"
   ]
  },
  {
   "cell_type": "code",
   "execution_count": null,
   "id": "4d7d611c",
   "metadata": {},
   "outputs": [],
   "source": [
    "trainer.train(num_epochs=30, device=device, lr=1e-3)"
   ]
  },
  {
   "cell_type": "code",
   "execution_count": 6,
   "id": "d7f82d5c",
   "metadata": {},
   "outputs": [],
   "source": [
    "torch.save(vae.state_dict(), \"vae.pt\")"
   ]
  },
  {
   "cell_type": "code",
   "execution_count": null,
   "id": "379e48c6",
   "metadata": {},
   "outputs": [],
   "source": [
    "x, y = next(iter(sampler.train_loader))\n",
    "mu, logvar = vae.encoder(x.to(device))\n",
    "\n",
    "# z = vae.reparameterize(mu, logvar)\n",
    "out = vae.decoder(mu)\n",
    "B, C, H, W = out.shape\n",
    "out = out.reshape(B, C // 2, 2, H, W)[0].detach().cpu()\n",
    "\n",
    "\n",
    "plot_spectrogram_grid(x.reshape(B, C // 2, 2, H, W)[0])\n",
    "plot_spectrogram_grid(out)\n",
    "\n",
    "\n",
    "recon = istft_transform(x.reshape(B, C // 2, 2, H, W)[0])\n",
    "plt.plot(recon)\n",
    "plt.show()\n",
    "\n",
    "recon = istft_transform(out)\n",
    "plt.plot(recon)\n",
    "plt.show()"
   ]
  }
 ],
 "metadata": {
  "kernelspec": {
   "display_name": "flow-matching",
   "language": "python",
   "name": "python3"
  },
  "language_info": {
   "codemirror_mode": {
    "name": "ipython",
    "version": 3
   },
   "file_extension": ".py",
   "mimetype": "text/x-python",
   "name": "python",
   "nbconvert_exporter": "python",
   "pygments_lexer": "ipython3",
   "version": "3.11.12"
  }
 },
 "nbformat": 4,
 "nbformat_minor": 5
}
