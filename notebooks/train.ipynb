{
 "cells": [
  {
   "cell_type": "code",
   "execution_count": 1,
   "id": "3750e228",
   "metadata": {},
   "outputs": [
    {
     "ename": "ModuleNotFoundError",
     "evalue": "No module named 'flow_matching'",
     "output_type": "error",
     "traceback": [
      "\u001b[0;31m---------------------------------------------------------------------------\u001b[0m",
      "\u001b[0;31mModuleNotFoundError\u001b[0m                       Traceback (most recent call last)",
      "Cell \u001b[0;32mIn[1], line 2\u001b[0m\n\u001b[1;32m      1\u001b[0m \u001b[38;5;28;01mimport\u001b[39;00m\u001b[38;5;250m \u001b[39m\u001b[38;5;21;01mtorch\u001b[39;00m\n\u001b[0;32m----> 2\u001b[0m \u001b[38;5;28;01mfrom\u001b[39;00m\u001b[38;5;250m \u001b[39m\u001b[38;5;21;01mflow_matching\u001b[39;00m\u001b[38;5;21;01m.\u001b[39;00m\u001b[38;5;21;01msupervised\u001b[39;00m\u001b[38;5;21;01m.\u001b[39;00m\u001b[38;5;21;01malphas_betas\u001b[39;00m\u001b[38;5;250m \u001b[39m\u001b[38;5;28;01mimport\u001b[39;00m LinearAlpha, LinearBeta\n\u001b[1;32m      3\u001b[0m \u001b[38;5;28;01mfrom\u001b[39;00m\u001b[38;5;250m \u001b[39m\u001b[38;5;21;01mflow_matching\u001b[39;00m\u001b[38;5;21;01m.\u001b[39;00m\u001b[38;5;21;01msupervised\u001b[39;00m\u001b[38;5;21;01m.\u001b[39;00m\u001b[38;5;21;01msamplers\u001b[39;00m\u001b[38;5;250m \u001b[39m\u001b[38;5;28;01mimport\u001b[39;00m MNISTSampler\n\u001b[1;32m      4\u001b[0m \u001b[38;5;28;01mfrom\u001b[39;00m\u001b[38;5;250m \u001b[39m\u001b[38;5;21;01mflow_matching\u001b[39;00m\u001b[38;5;21;01m.\u001b[39;00m\u001b[38;5;21;01msupervised\u001b[39;00m\u001b[38;5;21;01m.\u001b[39;00m\u001b[38;5;21;01mprob_paths\u001b[39;00m\u001b[38;5;250m \u001b[39m\u001b[38;5;28;01mimport\u001b[39;00m GaussianConditionalProbabilityPath\n",
      "\u001b[0;31mModuleNotFoundError\u001b[0m: No module named 'flow_matching'"
     ]
    }
   ],
   "source": [
    "import torch\n",
    "from flow_matching.supervised.alphas_betas import LinearAlpha, LinearBeta\n",
    "from flow_matching.supervised.samplers import MNISTSampler\n",
    "from flow_matching.supervised.prob_paths import GaussianConditionalProbabilityPath\n",
    "from flow_matching.supervised.models import MNISTUNet\n",
    "from flow_matching.supervised.training import CFGTrainer"
   ]
  },
  {
   "cell_type": "code",
   "execution_count": 2,
   "id": "749297ed",
   "metadata": {},
   "outputs": [],
   "source": [
    "device = torch.device(\"cuda\" if torch.cuda.is_available() else \"cpu\")"
   ]
  },
  {
   "cell_type": "code",
   "execution_count": 3,
   "id": "d63b6927",
   "metadata": {},
   "outputs": [],
   "source": [
    "path = GaussianConditionalProbabilityPath(\n",
    "    p_data=MNISTSampler(),\n",
    "    p_simple_shape=[1, 32, 32],\n",
    "    alpha=LinearAlpha(),\n",
    "    beta=LinearBeta(),\n",
    ").to(device)\n",
    "\n",
    "unet = MNISTUNet(\n",
    "    channels=[16, 32, 64],  # [32, 64, 128],\n",
    "    num_residual_layers=2,\n",
    "    t_embed_dim=8,  # 40,\n",
    "    y_embed_dim=8,  # 40,\n",
    ").to(device)\n",
    "\n",
    "trainer = CFGTrainer(path=path, model=unet, eta=0.1)"
   ]
  },
  {
   "cell_type": "code",
   "execution_count": null,
   "id": "1a1261b5",
   "metadata": {},
   "outputs": [],
   "source": [
    "trainer.train(num_epochs=1000, device=device, lr=1e-3, batch_size=32)"
   ]
  },
  {
   "cell_type": "code",
   "execution_count": null,
   "id": "850c3505",
   "metadata": {},
   "outputs": [],
   "source": [
    "# torch.save(unet.state_dict(), \"unet.pt\")"
   ]
  }
 ],
 "metadata": {
  "kernelspec": {
   "display_name": "flow-matching",
   "language": "python",
   "name": "python3"
  },
  "language_info": {
   "codemirror_mode": {
    "name": "ipython",
    "version": 3
   },
   "file_extension": ".py",
   "mimetype": "text/x-python",
   "name": "python",
   "nbconvert_exporter": "python",
   "pygments_lexer": "ipython3",
   "version": "3.11.12"
  }
 },
 "nbformat": 4,
 "nbformat_minor": 5
}
