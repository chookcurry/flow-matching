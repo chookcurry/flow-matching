{
 "cells": [
  {
   "cell_type": "code",
   "execution_count": null,
   "id": "3750e228",
   "metadata": {},
   "outputs": [],
   "source": [
    "import torch\n",
    "from flow_matching.supervised.alphas_betas import LinearAlpha, LinearBeta\n",
    "from flow_matching.supervised.samplers import MNISTSampler\n",
    "from flow_matching.supervised.prob_paths import GaussianConditionalProbabilityPath\n",
    "from flow_matching.supervised.models import MNISTUNet\n",
    "from flow_matching.supervised.training import CFGTrainer"
   ]
  },
  {
   "cell_type": "code",
   "execution_count": 2,
   "id": "749297ed",
   "metadata": {},
   "outputs": [],
   "source": [
    "device = torch.device(\"cuda\" if torch.cuda.is_available() else \"cpu\")"
   ]
  },
  {
   "cell_type": "code",
   "execution_count": 3,
   "id": "d63b6927",
   "metadata": {},
   "outputs": [],
   "source": [
    "path = GaussianConditionalProbabilityPath(\n",
    "    p_data=MNISTSampler(),\n",
    "    p_simple_shape=[1, 32, 32],\n",
    "    alpha=LinearAlpha(),\n",
    "    beta=LinearBeta(),\n",
    ").to(device)\n",
    "\n",
    "unet = MNISTUNet(\n",
    "    channels=[16, 32, 64],  # [32, 64, 128],\n",
    "    num_residual_layers=2,\n",
    "    t_embed_dim=8,  # 40,\n",
    "    y_embed_dim=8,  # 40,\n",
    ").to(device)\n",
    "\n",
    "trainer = CFGTrainer(path=path, model=unet, eta=0.1)"
   ]
  },
  {
   "cell_type": "code",
   "execution_count": null,
   "id": "1a1261b5",
   "metadata": {},
   "outputs": [],
   "source": [
    "trainer.train(num_epochs=1000, device=device, lr=1e-3, batch_size=32)"
   ]
  },
  {
   "cell_type": "code",
   "execution_count": null,
   "id": "850c3505",
   "metadata": {},
   "outputs": [],
   "source": [
    "# torch.save(unet.state_dict(), \"unet.pt\")"
   ]
  }
 ],
 "metadata": {
  "kernelspec": {
   "display_name": "flow-matching",
   "language": "python",
   "name": "python3"
  },
  "language_info": {
   "codemirror_mode": {
    "name": "ipython",
    "version": 3
   },
   "file_extension": ".py",
   "mimetype": "text/x-python",
   "name": "python",
   "nbconvert_exporter": "python",
   "pygments_lexer": "ipython3",
   "version": "3.11.12"
  }
 },
 "nbformat": 4,
 "nbformat_minor": 5
}
